{
 "cells": [
  {
   "cell_type": "code",
   "execution_count": 4,
   "id": "803297ba",
   "metadata": {},
   "outputs": [
    {
     "data": {
      "text/plain": [
       "False"
      ]
     },
     "execution_count": 4,
     "metadata": {},
     "output_type": "execute_result"
    }
   ],
   "source": [
    "import os\n",
    "os.path.exists( 'C:\\\\Users\\\\cjpcc\\\\jupyter notebook\\\\irgv2\\\\examples/evaluate.nosync/alset/exp1/tables/real\\\\\\\\complete\\\\\\\\real\\\\\\\\tables\\\\\\\\sis_academic_program\\\\\\\\pair_joined\\\\\\\\sis_academic_program_outer_join_sis_academic_program_offer\\\\\\\\attributes\\\\\\\\sis_academic_program_offer\\\\\\\\faculty_de')"
   ]
  },
  {
   "cell_type": "code",
   "execution_count": 5,
   "id": "5506a449",
   "metadata": {},
   "outputs": [],
   "source": [
    "s = 'examples/evaluate.nosync/alset/exp1/tables/real/complete\\\\\\\\real\\\\\\\\tables\\\\sis_academic_program\\\\pair_joined\\\\sis_academic_program_outer_join_sis_academic_program_offer\\\\\\\\attributes\\\\\\\\sis_academic_program_offer\\\\\\\\faculssss'"
   ]
  },
  {
   "cell_type": "code",
   "execution_count": 3,
   "id": "4c9763e9",
   "metadata": {},
   "outputs": [],
   "source": [
    "os.mkdir(s)"
   ]
  },
  {
   "cell_type": "code",
   "execution_count": 32,
   "id": "ce009ebb",
   "metadata": {},
   "outputs": [
    {
     "ename": "SyntaxError",
     "evalue": "(unicode error) 'unicodeescape' codec can't decode bytes in position 2-3: truncated \\UXXXXXXXX escape (404177221.py, line 1)",
     "output_type": "error",
     "traceback": [
      "\u001b[1;36m  Input \u001b[1;32mIn [32]\u001b[1;36m\u001b[0m\n\u001b[1;33m    s = 'C:\\Users\\cjpcc\\jupyter notebook\\irgv2\\examples\\evaluate.nosync\\alset\\exp1\\tables\\real\\complete\\real\\tables\\sis_academic_program\\pair_joined\\sis_academic_program_outer_join_sis_academic_program_offer\\attributes\\sis_academic_program_offer'.replace('\\','\\\\\\\\')\u001b[0m\n\u001b[1;37m                                                                                                                                                                                                                                                      ^\u001b[0m\n\u001b[1;31mSyntaxError\u001b[0m\u001b[1;31m:\u001b[0m (unicode error) 'unicodeescape' codec can't decode bytes in position 2-3: truncated \\UXXXXXXXX escape\n"
     ]
    }
   ],
   "source": [
    "s = 'C:\\Users\\cjpcc\\jupyter notebook\\irgv2\\examples\\evaluate.nosync\\alset\\exp1\\tables\\real\\complete\\real\\tables\\sis_academic_program\\pair_joined\\sis_academic_program_outer_join_sis_academic_program_offer\\attributes\\sis_academic_program_offer'.replace('\\','\\\\\\\\')"
   ]
  },
  {
   "cell_type": "code",
   "execution_count": 123,
   "id": "95549a1a",
   "metadata": {},
   "outputs": [
    {
     "data": {
      "text/plain": [
       "258"
      ]
     },
     "execution_count": 123,
     "metadata": {},
     "output_type": "execute_result"
    }
   ],
   "source": [
    "len(s)"
   ]
  },
  {
   "cell_type": "code",
   "execution_count": null,
   "id": "6e30d3f3",
   "metadata": {},
   "outputs": [],
   "source": []
  }
 ],
 "metadata": {
  "kernelspec": {
   "display_name": "Python 3 (ipykernel)",
   "language": "python",
   "name": "python3"
  },
  "language_info": {
   "codemirror_mode": {
    "name": "ipython",
    "version": 3
   },
   "file_extension": ".py",
   "mimetype": "text/x-python",
   "name": "python",
   "nbconvert_exporter": "python",
   "pygments_lexer": "ipython3",
   "version": "3.9.12"
  }
 },
 "nbformat": 4,
 "nbformat_minor": 5
}
